{
  "nbformat": 4,
  "nbformat_minor": 0,
  "metadata": {
    "colab": {
      "provenance": [],
      "gpuType": "T4"
    },
    "kernelspec": {
      "name": "python3",
      "display_name": "Python 3"
    },
    "language_info": {
      "name": "python"
    },
    "accelerator": "GPU"
  },
  "cells": [
    {
      "cell_type": "code",
      "execution_count": null,
      "metadata": {
        "id": "RzRRisNDzzJP",
        "colab": {
          "base_uri": "https://localhost:8080/"
        },
        "outputId": "676b4c33-1878-4a1e-cfc4-a5e77e26999d"
      },
      "outputs": [
        {
          "output_type": "stream",
          "name": "stdout",
          "text": [
            "Requirement already satisfied: scikeras in /usr/local/lib/python3.11/dist-packages (0.13.0)\n",
            "Requirement already satisfied: keras>=3.2.0 in /usr/local/lib/python3.11/dist-packages (from scikeras) (3.10.0)\n",
            "Requirement already satisfied: scikit-learn>=1.4.2 in /usr/local/lib/python3.11/dist-packages (from scikeras) (1.6.1)\n",
            "Requirement already satisfied: absl-py in /usr/local/lib/python3.11/dist-packages (from keras>=3.2.0->scikeras) (1.4.0)\n",
            "Requirement already satisfied: numpy in /usr/local/lib/python3.11/dist-packages (from keras>=3.2.0->scikeras) (2.0.2)\n",
            "Requirement already satisfied: rich in /usr/local/lib/python3.11/dist-packages (from keras>=3.2.0->scikeras) (13.9.4)\n",
            "Requirement already satisfied: namex in /usr/local/lib/python3.11/dist-packages (from keras>=3.2.0->scikeras) (0.1.0)\n",
            "Requirement already satisfied: h5py in /usr/local/lib/python3.11/dist-packages (from keras>=3.2.0->scikeras) (3.14.0)\n",
            "Requirement already satisfied: optree in /usr/local/lib/python3.11/dist-packages (from keras>=3.2.0->scikeras) (0.17.0)\n",
            "Requirement already satisfied: ml-dtypes in /usr/local/lib/python3.11/dist-packages (from keras>=3.2.0->scikeras) (0.5.3)\n",
            "Requirement already satisfied: packaging in /usr/local/lib/python3.11/dist-packages (from keras>=3.2.0->scikeras) (25.0)\n",
            "Requirement already satisfied: scipy>=1.6.0 in /usr/local/lib/python3.11/dist-packages (from scikit-learn>=1.4.2->scikeras) (1.16.1)\n",
            "Requirement already satisfied: joblib>=1.2.0 in /usr/local/lib/python3.11/dist-packages (from scikit-learn>=1.4.2->scikeras) (1.5.1)\n",
            "Requirement already satisfied: threadpoolctl>=3.1.0 in /usr/local/lib/python3.11/dist-packages (from scikit-learn>=1.4.2->scikeras) (3.6.0)\n",
            "Requirement already satisfied: typing-extensions>=4.6.0 in /usr/local/lib/python3.11/dist-packages (from optree->keras>=3.2.0->scikeras) (4.14.1)\n",
            "Requirement already satisfied: markdown-it-py>=2.2.0 in /usr/local/lib/python3.11/dist-packages (from rich->keras>=3.2.0->scikeras) (3.0.0)\n",
            "Requirement already satisfied: pygments<3.0.0,>=2.13.0 in /usr/local/lib/python3.11/dist-packages (from rich->keras>=3.2.0->scikeras) (2.19.2)\n",
            "Requirement already satisfied: mdurl~=0.1 in /usr/local/lib/python3.11/dist-packages (from markdown-it-py>=2.2.0->rich->keras>=3.2.0->scikeras) (0.1.2)\n"
          ]
        }
      ],
      "source": [
        "# Install required packages\n",
        "!pip install scikeras\n",
        "\n",
        "import pandas as pd\n",
        "import numpy as np\n",
        "import matplotlib.pyplot as plt\n",
        "from sklearn.metrics import confusion_matrix\n",
        "from sklearn.model_selection import StratifiedKFold\n",
        "import seaborn as sns\n",
        "from sklearn.model_selection import train_test_split, KFold\n",
        "from sklearn.preprocessing import StandardScaler, LabelEncoder, OneHotEncoder\n",
        "from sklearn.metrics import accuracy_score, precision_score, recall_score, f1_score\n",
        "import tensorflow as tf\n",
        "from tensorflow.keras.models import Sequential\n",
        "from tensorflow.keras.layers import Dense, Dropout, BatchNormalization\n",
        "from tensorflow.keras.callbacks import EarlyStopping, TensorBoard\n",
        "import datetime\n",
        "import pickle\n",
        "from sklearn.model_selection import GridSearchCV\n",
        "from scikeras.wrappers import KerasClassifier\n",
        "from google.colab import files"
      ]
    },
    {
      "cell_type": "code",
      "source": [
        "def load_and_preprocess_data(file_path):\n",
        "    data = pd.read_csv(file_path)\n",
        "    pd.set_option('display.max_columns', None)\n",
        "    print(\"Before preprocessing:\")\n",
        "    print(data.head())\n",
        "    # Drop irrelevant columns\n",
        "    data = data.drop(['CustomerId','RowNumber', 'Surname'],axis = 1)\n",
        "    # Encode Gender (Male=1, Female=0)\n",
        "    label_encoder_gender = LabelEncoder()\n",
        "    data['Gender'] = label_encoder_gender.fit_transform(data['Gender'])\n",
        "    # One-hot encode Geography (France, Germany, Spain)\n",
        "    onehot_encoder_geo = OneHotEncoder(sparse_output= False)\n",
        "    geo_encoder = onehot_encoder_geo.fit_transform(data[['Geography']])\n",
        "    geo_encoded_df = pd.DataFrame(geo_encoder, columns=onehot_encoder_geo.get_feature_names_out(['Geography']))\n",
        "    # Combine one-hot encoded columns with original data\n",
        "    data = pd.concat([data.drop('Geography', axis = 1),geo_encoded_df], axis =1)\n",
        "    # Save encoders for later use\n",
        "    with open('label_encoder_gender.pkl', 'wb') as file:\n",
        "      pickle.dump(label_encoder_gender, file)\n",
        "    with open('onehot_encoder_geo.pkl', 'wb') as file:\n",
        "      pickle.dump(onehot_encoder_geo, file)\n",
        "    print(\"\\nAfter preprocessing:\")\n",
        "    print(data.head())  # <-- This prints processed table\n",
        "    print(\"Shape after preprocessing:\", data.shape)\n",
        "    return data\n",
        "# Use the raw file link\n",
        "url = \"https://raw.githubusercontent.com/krishnaik06/ANN-CLassification-Churn/6ac351aa3533f5cde56926032fb479a4e9c4d2ab/Churn_Modelling.csv\"\n",
        "\n",
        "data = load_and_preprocess_data(url)\n"
      ],
      "metadata": {
        "colab": {
          "base_uri": "https://localhost:8080/"
        },
        "id": "QGQE1X0r4-X3",
        "outputId": "c87ade1f-51e5-4af0-a227-649ffeb54822"
      },
      "execution_count": null,
      "outputs": [
        {
          "output_type": "stream",
          "name": "stdout",
          "text": [
            "Before preprocessing:\n",
            "   RowNumber  CustomerId   Surname  CreditScore Geography  Gender  Age  \\\n",
            "0          1    15634602  Hargrave          619    France  Female   42   \n",
            "1          2    15647311      Hill          608     Spain  Female   41   \n",
            "2          3    15619304      Onio          502    France  Female   42   \n",
            "3          4    15701354      Boni          699    France  Female   39   \n",
            "4          5    15737888  Mitchell          850     Spain  Female   43   \n",
            "\n",
            "   Tenure    Balance  NumOfProducts  HasCrCard  IsActiveMember  \\\n",
            "0       2       0.00              1          1               1   \n",
            "1       1   83807.86              1          0               1   \n",
            "2       8  159660.80              3          1               0   \n",
            "3       1       0.00              2          0               0   \n",
            "4       2  125510.82              1          1               1   \n",
            "\n",
            "   EstimatedSalary  Exited  \n",
            "0        101348.88       1  \n",
            "1        112542.58       0  \n",
            "2        113931.57       1  \n",
            "3         93826.63       0  \n",
            "4         79084.10       0  \n",
            "\n",
            "After preprocessing:\n",
            "   CreditScore  Gender  Age  Tenure    Balance  NumOfProducts  HasCrCard  \\\n",
            "0          619       0   42       2       0.00              1          1   \n",
            "1          608       0   41       1   83807.86              1          0   \n",
            "2          502       0   42       8  159660.80              3          1   \n",
            "3          699       0   39       1       0.00              2          0   \n",
            "4          850       0   43       2  125510.82              1          1   \n",
            "\n",
            "   IsActiveMember  EstimatedSalary  Exited  Geography_France  \\\n",
            "0               1        101348.88       1               1.0   \n",
            "1               1        112542.58       0               0.0   \n",
            "2               0        113931.57       1               1.0   \n",
            "3               0         93826.63       0               1.0   \n",
            "4               1         79084.10       0               0.0   \n",
            "\n",
            "   Geography_Germany  Geography_Spain  \n",
            "0                0.0              0.0  \n",
            "1                0.0              1.0  \n",
            "2                0.0              0.0  \n",
            "3                0.0              0.0  \n",
            "4                0.0              1.0  \n",
            "Shape after preprocessing: (10000, 13)\n"
          ]
        }
      ]
    },
    {
      "cell_type": "code",
      "source": [
        "#Function to create ANN model\n",
        "from tensorflow.keras import Input\n",
        "def create_model(input_dim, lr=0.001):\n",
        "  #Create a simple ANN model with dropout and batch normalization.\n",
        "\n",
        "  model = Sequential([\n",
        "    Input(shape=(12,)),  # Explicitly define the input layer\n",
        "    Dense(64, activation='relu'),\n",
        "    BatchNormalization(),\n",
        "    Dropout(0.3),\n",
        "    Dense(32, activation='relu'),\n",
        "    BatchNormalization(),\n",
        "    Dropout(0.3),\n",
        "    Dense(1, activation='sigmoid')\n",
        "])\n",
        "  model.compile(optimizer=tf.keras.optimizers.Adam(learning_rate=lr),\n",
        "                  loss='binary_crossentropy',\n",
        "                  metrics=['accuracy', tf.keras.metrics.Precision(), tf.keras.metrics.Recall()])\n",
        "  return model\n",
        "  # after preprocessing\n",
        "X = data.drop('Exited', axis=1).values\n",
        "y = data['Exited'].values\n",
        "model = create_model(input_dim=X.shape[1])\n",
        "\n"
      ],
      "metadata": {
        "id": "4_IsFz6o4-d-"
      },
      "execution_count": null,
      "outputs": []
    },
    {
      "cell_type": "code",
      "source": [
        "print(model.summary())\n"
      ],
      "metadata": {
        "colab": {
          "base_uri": "https://localhost:8080/",
          "height": 423
        },
        "id": "BYyUBv6Y4-gv",
        "outputId": "66436adc-bce3-461f-9b76-024aa258f8e3"
      },
      "execution_count": null,
      "outputs": [
        {
          "output_type": "display_data",
          "data": {
            "text/plain": [
              "\u001b[1mModel: \"sequential_1\"\u001b[0m\n"
            ],
            "text/html": [
              "<pre style=\"white-space:pre;overflow-x:auto;line-height:normal;font-family:Menlo,'DejaVu Sans Mono',consolas,'Courier New',monospace\"><span style=\"font-weight: bold\">Model: \"sequential_1\"</span>\n",
              "</pre>\n"
            ]
          },
          "metadata": {}
        },
        {
          "output_type": "display_data",
          "data": {
            "text/plain": [
              "┏━━━━━━━━━━━━━━━━━━━━━━━━━━━━━━━━━┳━━━━━━━━━━━━━━━━━━━━━━━━┳━━━━━━━━━━━━━━━┓\n",
              "┃\u001b[1m \u001b[0m\u001b[1mLayer (type)                   \u001b[0m\u001b[1m \u001b[0m┃\u001b[1m \u001b[0m\u001b[1mOutput Shape          \u001b[0m\u001b[1m \u001b[0m┃\u001b[1m \u001b[0m\u001b[1m      Param #\u001b[0m\u001b[1m \u001b[0m┃\n",
              "┡━━━━━━━━━━━━━━━━━━━━━━━━━━━━━━━━━╇━━━━━━━━━━━━━━━━━━━━━━━━╇━━━━━━━━━━━━━━━┩\n",
              "│ dense_3 (\u001b[38;5;33mDense\u001b[0m)                 │ (\u001b[38;5;45mNone\u001b[0m, \u001b[38;5;34m64\u001b[0m)             │           \u001b[38;5;34m832\u001b[0m │\n",
              "├─────────────────────────────────┼────────────────────────┼───────────────┤\n",
              "│ batch_normalization_2           │ (\u001b[38;5;45mNone\u001b[0m, \u001b[38;5;34m64\u001b[0m)             │           \u001b[38;5;34m256\u001b[0m │\n",
              "│ (\u001b[38;5;33mBatchNormalization\u001b[0m)            │                        │               │\n",
              "├─────────────────────────────────┼────────────────────────┼───────────────┤\n",
              "│ dropout_2 (\u001b[38;5;33mDropout\u001b[0m)             │ (\u001b[38;5;45mNone\u001b[0m, \u001b[38;5;34m64\u001b[0m)             │             \u001b[38;5;34m0\u001b[0m │\n",
              "├─────────────────────────────────┼────────────────────────┼───────────────┤\n",
              "│ dense_4 (\u001b[38;5;33mDense\u001b[0m)                 │ (\u001b[38;5;45mNone\u001b[0m, \u001b[38;5;34m32\u001b[0m)             │         \u001b[38;5;34m2,080\u001b[0m │\n",
              "├─────────────────────────────────┼────────────────────────┼───────────────┤\n",
              "│ batch_normalization_3           │ (\u001b[38;5;45mNone\u001b[0m, \u001b[38;5;34m32\u001b[0m)             │           \u001b[38;5;34m128\u001b[0m │\n",
              "│ (\u001b[38;5;33mBatchNormalization\u001b[0m)            │                        │               │\n",
              "├─────────────────────────────────┼────────────────────────┼───────────────┤\n",
              "│ dropout_3 (\u001b[38;5;33mDropout\u001b[0m)             │ (\u001b[38;5;45mNone\u001b[0m, \u001b[38;5;34m32\u001b[0m)             │             \u001b[38;5;34m0\u001b[0m │\n",
              "├─────────────────────────────────┼────────────────────────┼───────────────┤\n",
              "│ dense_5 (\u001b[38;5;33mDense\u001b[0m)                 │ (\u001b[38;5;45mNone\u001b[0m, \u001b[38;5;34m1\u001b[0m)              │            \u001b[38;5;34m33\u001b[0m │\n",
              "└─────────────────────────────────┴────────────────────────┴───────────────┘\n"
            ],
            "text/html": [
              "<pre style=\"white-space:pre;overflow-x:auto;line-height:normal;font-family:Menlo,'DejaVu Sans Mono',consolas,'Courier New',monospace\">┏━━━━━━━━━━━━━━━━━━━━━━━━━━━━━━━━━┳━━━━━━━━━━━━━━━━━━━━━━━━┳━━━━━━━━━━━━━━━┓\n",
              "┃<span style=\"font-weight: bold\"> Layer (type)                    </span>┃<span style=\"font-weight: bold\"> Output Shape           </span>┃<span style=\"font-weight: bold\">       Param # </span>┃\n",
              "┡━━━━━━━━━━━━━━━━━━━━━━━━━━━━━━━━━╇━━━━━━━━━━━━━━━━━━━━━━━━╇━━━━━━━━━━━━━━━┩\n",
              "│ dense_3 (<span style=\"color: #0087ff; text-decoration-color: #0087ff\">Dense</span>)                 │ (<span style=\"color: #00d7ff; text-decoration-color: #00d7ff\">None</span>, <span style=\"color: #00af00; text-decoration-color: #00af00\">64</span>)             │           <span style=\"color: #00af00; text-decoration-color: #00af00\">832</span> │\n",
              "├─────────────────────────────────┼────────────────────────┼───────────────┤\n",
              "│ batch_normalization_2           │ (<span style=\"color: #00d7ff; text-decoration-color: #00d7ff\">None</span>, <span style=\"color: #00af00; text-decoration-color: #00af00\">64</span>)             │           <span style=\"color: #00af00; text-decoration-color: #00af00\">256</span> │\n",
              "│ (<span style=\"color: #0087ff; text-decoration-color: #0087ff\">BatchNormalization</span>)            │                        │               │\n",
              "├─────────────────────────────────┼────────────────────────┼───────────────┤\n",
              "│ dropout_2 (<span style=\"color: #0087ff; text-decoration-color: #0087ff\">Dropout</span>)             │ (<span style=\"color: #00d7ff; text-decoration-color: #00d7ff\">None</span>, <span style=\"color: #00af00; text-decoration-color: #00af00\">64</span>)             │             <span style=\"color: #00af00; text-decoration-color: #00af00\">0</span> │\n",
              "├─────────────────────────────────┼────────────────────────┼───────────────┤\n",
              "│ dense_4 (<span style=\"color: #0087ff; text-decoration-color: #0087ff\">Dense</span>)                 │ (<span style=\"color: #00d7ff; text-decoration-color: #00d7ff\">None</span>, <span style=\"color: #00af00; text-decoration-color: #00af00\">32</span>)             │         <span style=\"color: #00af00; text-decoration-color: #00af00\">2,080</span> │\n",
              "├─────────────────────────────────┼────────────────────────┼───────────────┤\n",
              "│ batch_normalization_3           │ (<span style=\"color: #00d7ff; text-decoration-color: #00d7ff\">None</span>, <span style=\"color: #00af00; text-decoration-color: #00af00\">32</span>)             │           <span style=\"color: #00af00; text-decoration-color: #00af00\">128</span> │\n",
              "│ (<span style=\"color: #0087ff; text-decoration-color: #0087ff\">BatchNormalization</span>)            │                        │               │\n",
              "├─────────────────────────────────┼────────────────────────┼───────────────┤\n",
              "│ dropout_3 (<span style=\"color: #0087ff; text-decoration-color: #0087ff\">Dropout</span>)             │ (<span style=\"color: #00d7ff; text-decoration-color: #00d7ff\">None</span>, <span style=\"color: #00af00; text-decoration-color: #00af00\">32</span>)             │             <span style=\"color: #00af00; text-decoration-color: #00af00\">0</span> │\n",
              "├─────────────────────────────────┼────────────────────────┼───────────────┤\n",
              "│ dense_5 (<span style=\"color: #0087ff; text-decoration-color: #0087ff\">Dense</span>)                 │ (<span style=\"color: #00d7ff; text-decoration-color: #00d7ff\">None</span>, <span style=\"color: #00af00; text-decoration-color: #00af00\">1</span>)              │            <span style=\"color: #00af00; text-decoration-color: #00af00\">33</span> │\n",
              "└─────────────────────────────────┴────────────────────────┴───────────────┘\n",
              "</pre>\n"
            ]
          },
          "metadata": {}
        },
        {
          "output_type": "display_data",
          "data": {
            "text/plain": [
              "\u001b[1m Total params: \u001b[0m\u001b[38;5;34m3,329\u001b[0m (13.00 KB)\n"
            ],
            "text/html": [
              "<pre style=\"white-space:pre;overflow-x:auto;line-height:normal;font-family:Menlo,'DejaVu Sans Mono',consolas,'Courier New',monospace\"><span style=\"font-weight: bold\"> Total params: </span><span style=\"color: #00af00; text-decoration-color: #00af00\">3,329</span> (13.00 KB)\n",
              "</pre>\n"
            ]
          },
          "metadata": {}
        },
        {
          "output_type": "display_data",
          "data": {
            "text/plain": [
              "\u001b[1m Trainable params: \u001b[0m\u001b[38;5;34m3,137\u001b[0m (12.25 KB)\n"
            ],
            "text/html": [
              "<pre style=\"white-space:pre;overflow-x:auto;line-height:normal;font-family:Menlo,'DejaVu Sans Mono',consolas,'Courier New',monospace\"><span style=\"font-weight: bold\"> Trainable params: </span><span style=\"color: #00af00; text-decoration-color: #00af00\">3,137</span> (12.25 KB)\n",
              "</pre>\n"
            ]
          },
          "metadata": {}
        },
        {
          "output_type": "display_data",
          "data": {
            "text/plain": [
              "\u001b[1m Non-trainable params: \u001b[0m\u001b[38;5;34m192\u001b[0m (768.00 B)\n"
            ],
            "text/html": [
              "<pre style=\"white-space:pre;overflow-x:auto;line-height:normal;font-family:Menlo,'DejaVu Sans Mono',consolas,'Courier New',monospace\"><span style=\"font-weight: bold\"> Non-trainable params: </span><span style=\"color: #00af00; text-decoration-color: #00af00\">192</span> (768.00 B)\n",
              "</pre>\n"
            ]
          },
          "metadata": {}
        },
        {
          "output_type": "stream",
          "name": "stdout",
          "text": [
            "None\n"
          ]
        }
      ]
    },
    {
      "cell_type": "code",
      "source": [
        "\n",
        "# Function to evaluate model with k-fold cross-validation\n",
        "def evaluate_model(X, y, n_splits=5, epochs=50, batch_size=32):\n",
        "    # Ensure numpy arrays\n",
        "    X = np.array(X)\n",
        "    y = np.array(y)\n",
        "\n",
        "    kfold = StratifiedKFold(n_splits=n_splits, shuffle=True, random_state=42)\n",
        "    scores = {'accuracy': [], 'precision': [], 'recall': [], 'f1': []}\n",
        "\n",
        "    for fold, (train_idx, val_idx) in enumerate(kfold.split(X, y), 1):\n",
        "        # Split data\n",
        "        X_train, X_val = X[train_idx], X[val_idx]\n",
        "        y_train, y_val = y[train_idx], y[val_idx]\n",
        "\n",
        "        # Scale numeric features\n",
        "        scaler = StandardScaler()\n",
        "        X_train = scaler.fit_transform(X_train)\n",
        "        X_val = scaler.transform(X_val)\n",
        "\n",
        "        # Clear TF session and create model\n",
        "        tf.keras.backend.clear_session()\n",
        "        model = create_model(input_dim=X_train.shape[1], lr=0.001)\n",
        "\n",
        "        early_stopping = EarlyStopping(\n",
        "            monitor='val_loss', patience=5, restore_best_weights=True\n",
        "        )\n",
        "\n",
        "        # Train the model\n",
        "        model.fit(\n",
        "            X_train, y_train,\n",
        "            validation_data=(X_val, y_val),\n",
        "            epochs=epochs,\n",
        "            batch_size=batch_size,\n",
        "            callbacks=[early_stopping],\n",
        "            verbose=0  # set to 1 to see training logs\n",
        "        )\n",
        "\n",
        "        # Predict\n",
        "        y_pred_prob = model.predict(X_val).ravel()\n",
        "        y_pred = (y_pred_prob > 0.5).astype(int)\n",
        "\n",
        "        # Append metrics\n",
        "        scores['accuracy'].append(accuracy_score(y_val, y_pred))\n",
        "        scores['precision'].append(precision_score(y_val, y_pred, zero_division=0))\n",
        "        scores['recall'].append(recall_score(y_val, y_pred, zero_division=0))\n",
        "        scores['f1'].append(f1_score(y_val, y_pred, zero_division=0))\n",
        "\n",
        "        print(\n",
        "            f\"Fold {fold}: acc={scores['accuracy'][-1]:.4f}, \"\n",
        "            f\"precision={scores['precision'][-1]:.4f}, \"\n",
        "            f\"recall={scores['recall'][-1]:.4f}, \"\n",
        "            f\"f1={scores['f1'][-1]:.4f}\"\n",
        "        )\n",
        "\n",
        "    # Return per-fold and aggregated summary\n",
        "    summary = {m: (np.mean(v), np.std(v)) for m, v in scores.items()}\n",
        "    return scores, summary"
      ],
      "metadata": {
        "id": "fuzAuSrV4-jW"
      },
      "execution_count": null,
      "outputs": []
    },
    {
      "cell_type": "code",
      "source": [
        "\n",
        "# Function to plot training history\n",
        "def plot_training_history(history):\n",
        "    \"\"\"Plot training and validation loss and accuracy.\"\"\"\n",
        "    plt.figure(figsize=(12, 4))\n",
        "\n",
        "    # Plot loss\n",
        "    plt.subplot(1, 2, 1)\n",
        "    plt.plot(history.history['loss'], label='Training Loss')\n",
        "    plt.plot(history.history['val_loss'], label='Validation Loss')\n",
        "    plt.title('Model Loss')\n",
        "    plt.xlabel('Epoch')\n",
        "    plt.ylabel('Loss')\n",
        "    plt.legend()\n",
        "\n",
        "    # Plot accuracy\n",
        "    plt.subplot(1, 2, 2)\n",
        "    if 'accuracy' in history.history and 'val_accuracy' in history.history:\n",
        "        plt.plot(history.history['accuracy'], label='Training Accuracy')\n",
        "        plt.plot(history.history['val_accuracy'], label='Validation Accuracy')\n",
        "        plt.title('Model Accuracy')\n",
        "        plt.xlabel('Epoch')\n",
        "        plt.ylabel('Accuracy')\n",
        "        plt.legend()\n",
        "\n",
        "    plt.tight_layout()\n",
        "    plt.show()\n"
      ],
      "metadata": {
        "id": "klIDkTrb4-mJ"
      },
      "execution_count": null,
      "outputs": []
    },
    {
      "cell_type": "code",
      "source": [
        "# Function to plot confusion matrix\n",
        "def plot_confusion_matrix(y_true, y_pred):\n",
        "    \"\"\"Plot confusion matrix for model predictions.\"\"\"\n",
        "    cm = confusion_matrix(y_true, y_pred)\n",
        "    plt.figure(figsize=(6, 4))\n",
        "    sns.heatmap(\n",
        "        cm, annot=True, fmt='d', cmap='Blues',\n",
        "        xticklabels=['Not Churn', 'Churn'],\n",
        "        yticklabels=['Not Churn', 'Churn']\n",
        "    )\n",
        "    plt.title('Confusion Matrix')\n",
        "    plt.xlabel('Predicted')\n",
        "    plt.ylabel('Actual')\n",
        "    plt.show()"
      ],
      "metadata": {
        "id": "DuB6cghs0zVB"
      },
      "execution_count": null,
      "outputs": []
    },
    {
      "cell_type": "code",
      "source": [
        "# Function to plot feature importance\n",
        "def plot_feature_importance(importance_df):\n",
        "    \"\"\"Plot bar chart of feature importance.\"\"\"\n",
        "    plt.figure(figsize=(10, 6))\n",
        "    sns.barplot(x='Importance', y='Feature', data=importance_df, palette='viridis')\n",
        "    plt.title('Feature Importance')\n",
        "    plt.xlabel('Importance')\n",
        "    plt.ylabel('Feature')\n",
        "    plt.show()"
      ],
      "metadata": {
        "id": "em0_xI4m0zXo"
      },
      "execution_count": null,
      "outputs": []
    },
    {
      "cell_type": "code",
      "source": [
        "# Function to calculate feature importance\n",
        "def calculate_feature_importance(model, X_test, y_test, feature_names):\n",
        "    \"\"\"Calculate feature importance using permutation importance.\"\"\"\n",
        "    from sklearn.inspection import permutation_importance\n",
        "    results = permutation_importance(model, X_test, y_test, n_repeats=10, random_state=42)\n",
        "    importance = pd.DataFrame({'Feature': feature_names, 'Importance': results.importances_mean})\n",
        "    return importance.sort_values(by='Importance', ascending=False)"
      ],
      "metadata": {
        "id": "V8hMWJrQ0zaZ"
      },
      "execution_count": null,
      "outputs": []
    },
    {
      "cell_type": "code",
      "source": [
        "def predict_churn_bulk(input_data=None, input_file=None):\n",
        "    \"\"\"Perform bulk predictions from a list of dictionaries or a CSV file.\"\"\"\n",
        "    import pickle\n",
        "    import pandas as pd\n",
        "    import tensorflow as tf\n",
        "    from google.colab import files  # Only if using in Colab, else remove\n",
        "\n",
        "    # Load preprocessors and model\n",
        "    with open('label_encoder_gender.pkl', 'rb') as file:\n",
        "        label_encoder_gender = pickle.load(file)\n",
        "    with open('onehot_encoder_geo.pkl', 'rb') as file:\n",
        "        onehot_encoder_geo = pickle.load(file)\n",
        "    with open('scaler.pkl', 'rb') as file:\n",
        "        scaler = pickle.load(file)\n",
        "    model = tf.keras.models.load_model('improved_model.keras')\n",
        "\n",
        "    # Handle input: either a list of dictionaries or a CSV file\n",
        "    if input_file:\n",
        "        input_df = pd.read_csv(input_file)\n",
        "    elif input_data:\n",
        "        input_df = pd.DataFrame(input_data)\n",
        "    else:\n",
        "        raise ValueError(\"Must provide either input_data or input_file\")\n",
        "\n",
        "    # Validate input\n",
        "    required_columns = ['CreditScore', 'Geography', 'Gender', 'Age', 'Tenure', 'Balance',\n",
        "                       'NumOfProducts', 'HasCrCard', 'IsActiveMember', 'EstimatedSalary']\n",
        "    if not all(col in input_df.columns for col in required_columns):\n",
        "        raise ValueError(\"Input data must contain all required columns: \" + \", \".join(required_columns))\n",
        "\n",
        "    # Encode categorical variables\n",
        "    input_df['Gender'] = label_encoder_gender.transform(input_df['Gender'])\n",
        "    geo_encoded = onehot_encoder_geo.transform(input_df[['Geography']])\n",
        "    geo_encoded_df = pd.DataFrame(geo_encoded, columns=onehot_encoder_geo.get_feature_names_out(['Geography']))\n",
        "    input_df = pd.concat([input_df.drop('Geography', axis=1), geo_encoded_df], axis=1)\n",
        "\n",
        "    # Scale features\n",
        "    input_scaled = scaler.transform(input_df)\n",
        "\n",
        "    # Predict churn probabilities and labels\n",
        "    predictions = model.predict(input_scaled, batch_size=32)\n",
        "    prediction_probas = predictions.flatten()\n",
        "    prediction_labels = (predictions > 0.5).astype(int).flatten()\n",
        "\n",
        "    # Create result DataFrame\n",
        "    result_df = input_df.copy()\n",
        "    result_df['Churn_Probability'] = prediction_probas\n",
        "    result_df['Churn_Prediction_Numeric'] = prediction_labels\n",
        "    result_df['Churn_Prediction'] = ['likely to churn' if pred == 1 else 'not likely to churn' for pred in prediction_labels]\n",
        "\n",
        "    # Save results to CSV and download if using Google Colab\n",
        "    result_df.to_csv('churn_predictions.csv', index=False)\n",
        "    try:\n",
        "        files.download('churn_predictions.csv')\n",
        "    except:\n",
        "        pass  # If not in Colab, ignore\n",
        "\n",
        "    return result_df\n"
      ],
      "metadata": {
        "id": "u0GY-vU9sfLl"
      },
      "execution_count": null,
      "outputs": []
    },
    {
      "cell_type": "code",
      "source": [],
      "metadata": {
        "id": "Wr7J8q7hAwQG"
      },
      "execution_count": null,
      "outputs": []
    },
    {
      "cell_type": "code",
      "source": [],
      "metadata": {
        "id": "ztyl1cP6AxuK"
      },
      "execution_count": null,
      "outputs": []
    },
    {
      "cell_type": "code",
      "source": [
        "import datetime\n",
        "import pickle\n",
        "import numpy as np\n",
        "import pandas as pd\n",
        "import tensorflow as tf\n",
        "from sklearn.preprocessing import StandardScaler\n",
        "from sklearn.model_selection import train_test_split\n",
        "from sklearn.metrics import accuracy_score, precision_score, recall_score, f1_score\n",
        "from tensorflow.keras.callbacks import EarlyStopping, TensorBoard\n",
        "\n",
        "def main(file_name):\n",
        "    # 1) Load & preprocess (this function should already save label & onehot encoders)\n",
        "    data = load_and_preprocess_data(file_name)\n",
        "\n",
        "    # 2) Features and target\n",
        "    X = data.drop('Exited', axis=1)\n",
        "    y = data['Exited'].values\n",
        "\n",
        "    # 3) Train/test split (stratify to keep class ratio)\n",
        "    X_train, X_test, y_train, y_test = train_test_split(\n",
        "        X, y, test_size=0.2, stratify=y, random_state=42\n",
        "    )\n",
        "\n",
        "    # Keep raw (unscaled) copies for cross-validation later\n",
        "    X_train_raw = X_train.copy()\n",
        "    X_test_raw = X_test.copy()\n",
        "\n",
        "    # 4) Scale features for the final model training\n",
        "    scaler = StandardScaler()\n",
        "    X_train_scaled = scaler.fit_transform(X_train)\n",
        "    X_test_scaled = scaler.transform(X_test)\n",
        "\n",
        "    # Save scaler for reuse in production/prediction\n",
        "    with open('scaler.pkl', 'wb') as f:\n",
        "        pickle.dump(scaler, f)\n",
        "\n",
        "    # 5) Create and train model (pass correct input_dim)\n",
        "    model = create_model(input_dim=X_train.shape[1], lr=0.001)\n",
        "\n",
        "    log_dir = \"logs/fit/\" + datetime.datetime.now().strftime(\"%Y%m%d-%H%M%S\")\n",
        "    tensorboard_callback = TensorBoard(log_dir=log_dir, histogram_freq=1)\n",
        "    early_stopping = EarlyStopping(monitor='val_loss', patience=5, restore_best_weights=True)\n",
        "\n",
        "    history = model.fit(\n",
        "        X_train_scaled, y_train,\n",
        "        validation_data=(X_test_scaled, y_test),\n",
        "        epochs=50,\n",
        "        batch_size=32,\n",
        "        callbacks=[tensorboard_callback, early_stopping],\n",
        "        verbose=1\n",
        "    )\n",
        "\n",
        "    # 6) Plots and test evaluation\n",
        "    plot_training_history(history)\n",
        "\n",
        "    y_pred_prob = model.predict(X_test_scaled).ravel()\n",
        "    y_pred = (y_pred_prob > 0.5).astype(int)\n",
        "\n",
        "    print(\"\\nTest set performance:\")\n",
        "    print(f\"Accuracy: {accuracy_score(y_test, y_pred):.4f}\")\n",
        "    print(f\"Precision: {precision_score(y_test, y_pred, zero_division=0):.4f}\")\n",
        "    print(f\"Recall: {recall_score(y_test, y_pred, zero_division=0):.4f}\")\n",
        "    print(f\"F1-score: {f1_score(y_test, y_pred, zero_division=0):.4f}\")\n",
        "\n",
        "    plot_confusion_matrix(y_test, y_pred)\n",
        "\n",
        "    # 7) Feature importance for Keras: wrap model so permutation_importance can call .predict()\n",
        "    try:\n",
        "        from sklearn.inspection import permutation_importance\n",
        "        from sklearn.metrics import make_scorer, accuracy_score as acc_score\n",
        "\n",
        "        class KerasSklearnWrapper:\n",
        "            def __init__(self, keras_model):\n",
        "                self.keras_model = keras_model\n",
        "            def predict(self, X):\n",
        "                preds = self.keras_model.predict(X)\n",
        "                return (preds > 0.5).astype(int).ravel()\n",
        "\n",
        "        wrapper = KerasSklearnWrapper(model)\n",
        "        # Use scaled test set because model was trained on scaled data\n",
        "        results = permutation_importance(\n",
        "            wrapper, X_test_scaled, y_test,\n",
        "            n_repeats=10, random_state=42,\n",
        "            scoring=make_scorer(acc_score)\n",
        "        )\n",
        "        importance_df = pd.DataFrame({\n",
        "            'Feature': X.columns,\n",
        "            'Importance': results.importances_mean\n",
        "        }).sort_values('Importance', ascending=False)\n",
        "\n",
        "        print(\"\\nFeature Importance:\")\n",
        "        print(importance_df)\n",
        "        plot_feature_importance(importance_df)\n",
        "\n",
        "    except Exception as e:\n",
        "        print(\"Feature importance skipped (not available):\", e)\n",
        "\n",
        "    # 8) K-fold cross-validation evaluation\n",
        "    # Pass RAW training data; evaluate_model will scale inside folds to avoid leakage\n",
        "    scores, summary = evaluate_model(X_train_raw, y_train, n_splits=5, epochs=30, batch_size=32)\n",
        "    print(\"\\nCross-validation summary (mean ± 2*std):\")\n",
        "    for metric, (mean, std) in summary.items():\n",
        "        print(f\"{metric.capitalize()}: {mean:.4f} (+/- {std*2:.4f})\")\n",
        "\n",
        "    # 9) Save model\n",
        "    model.save('improved_model.keras')\n",
        "    print(\"\\nModel saved to improved_model.keras\")\n",
        "\n",
        "    # 10) Try Colab downloads (guarded)\n",
        "    try:\n",
        "        from google.colab import files\n",
        "        files.download('label_encoder_gender.pkl')\n",
        "        files.download('onehot_encoder_geo.pkl')\n",
        "        files.download('scaler.pkl')\n",
        "        files.download('improved_model.keras')\n",
        "    except Exception:\n",
        "        print(\"Download step skipped (not running in Colab). Files are saved in the working directory.\")\n",
        "\n",
        "# Run main (pass file_name you got from files.upload())\n",
        "# main(file_name)\n"
      ],
      "metadata": {
        "id": "nrGH7ZYHsfRz"
      },
      "execution_count": null,
      "outputs": []
    },
    {
      "cell_type": "code",
      "source": [
        "main(\"https://raw.githubusercontent.com/krishnaik06/ANN-CLassification-Churn/6ac351aa3533f5cde56926032fb479a4e9c4d2ab/Churn_Modelling.csv\"\n",
        ")"
      ],
      "metadata": {
        "colab": {
          "base_uri": "https://localhost:8080/",
          "height": 1000
        },
        "id": "Ckq2wHhOsfUi",
        "outputId": "84c44b0c-7922-444b-bd94-044c1769b2fb"
      },
      "execution_count": null,
      "outputs": [
        {
          "output_type": "stream",
          "name": "stdout",
          "text": [
            "Before preprocessing:\n",
            "   RowNumber  CustomerId   Surname  CreditScore Geography  Gender  Age  \\\n",
            "0          1    15634602  Hargrave          619    France  Female   42   \n",
            "1          2    15647311      Hill          608     Spain  Female   41   \n",
            "2          3    15619304      Onio          502    France  Female   42   \n",
            "3          4    15701354      Boni          699    France  Female   39   \n",
            "4          5    15737888  Mitchell          850     Spain  Female   43   \n",
            "\n",
            "   Tenure    Balance  NumOfProducts  HasCrCard  IsActiveMember  \\\n",
            "0       2       0.00              1          1               1   \n",
            "1       1   83807.86              1          0               1   \n",
            "2       8  159660.80              3          1               0   \n",
            "3       1       0.00              2          0               0   \n",
            "4       2  125510.82              1          1               1   \n",
            "\n",
            "   EstimatedSalary  Exited  \n",
            "0        101348.88       1  \n",
            "1        112542.58       0  \n",
            "2        113931.57       1  \n",
            "3         93826.63       0  \n",
            "4         79084.10       0  \n",
            "\n",
            "After preprocessing:\n",
            "   CreditScore  Gender  Age  Tenure    Balance  NumOfProducts  HasCrCard  \\\n",
            "0          619       0   42       2       0.00              1          1   \n",
            "1          608       0   41       1   83807.86              1          0   \n",
            "2          502       0   42       8  159660.80              3          1   \n",
            "3          699       0   39       1       0.00              2          0   \n",
            "4          850       0   43       2  125510.82              1          1   \n",
            "\n",
            "   IsActiveMember  EstimatedSalary  Exited  Geography_France  \\\n",
            "0               1        101348.88       1               1.0   \n",
            "1               1        112542.58       0               0.0   \n",
            "2               0        113931.57       1               1.0   \n",
            "3               0         93826.63       0               1.0   \n",
            "4               1         79084.10       0               0.0   \n",
            "\n",
            "   Geography_Germany  Geography_Spain  \n",
            "0                0.0              0.0  \n",
            "1                0.0              1.0  \n",
            "2                0.0              0.0  \n",
            "3                0.0              0.0  \n",
            "4                0.0              1.0  \n",
            "Shape after preprocessing: (10000, 13)\n",
            "Epoch 1/50\n",
            "\u001b[1m250/250\u001b[0m \u001b[32m━━━━━━━━━━━━━━━━━━━━\u001b[0m\u001b[37m\u001b[0m \u001b[1m6s\u001b[0m 11ms/step - accuracy: 0.6147 - loss: 0.7626 - precision_2: 0.2613 - recall_2: 0.4802 - val_accuracy: 0.8205 - val_loss: 0.4234 - val_precision_2: 0.7667 - val_recall_2: 0.1695\n",
            "Epoch 2/50\n",
            "\u001b[1m250/250\u001b[0m \u001b[32m━━━━━━━━━━━━━━━━━━━━\u001b[0m\u001b[37m\u001b[0m \u001b[1m2s\u001b[0m 6ms/step - accuracy: 0.7935 - loss: 0.4715 - precision_2: 0.4831 - recall_2: 0.3673 - val_accuracy: 0.8365 - val_loss: 0.3880 - val_precision_2: 0.7299 - val_recall_2: 0.3120\n",
            "Epoch 3/50\n",
            "\u001b[1m250/250\u001b[0m \u001b[32m━━━━━━━━━━━━━━━━━━━━\u001b[0m\u001b[37m\u001b[0m \u001b[1m2s\u001b[0m 7ms/step - accuracy: 0.8164 - loss: 0.4383 - precision_2: 0.5772 - recall_2: 0.3557 - val_accuracy: 0.8460 - val_loss: 0.3716 - val_precision_2: 0.7797 - val_recall_2: 0.3391\n",
            "Epoch 4/50\n",
            "\u001b[1m250/250\u001b[0m \u001b[32m━━━━━━━━━━━━━━━━━━━━\u001b[0m\u001b[37m\u001b[0m \u001b[1m2s\u001b[0m 5ms/step - accuracy: 0.8188 - loss: 0.4219 - precision_2: 0.6247 - recall_2: 0.3424 - val_accuracy: 0.8570 - val_loss: 0.3558 - val_precision_2: 0.7867 - val_recall_2: 0.4079\n",
            "Epoch 5/50\n",
            "\u001b[1m250/250\u001b[0m \u001b[32m━━━━━━━━━━━━━━━━━━━━\u001b[0m\u001b[37m\u001b[0m \u001b[1m1s\u001b[0m 5ms/step - accuracy: 0.8323 - loss: 0.3941 - precision_2: 0.6568 - recall_2: 0.3717 - val_accuracy: 0.8615 - val_loss: 0.3484 - val_precision_2: 0.7731 - val_recall_2: 0.4521\n",
            "Epoch 6/50\n",
            "\u001b[1m250/250\u001b[0m \u001b[32m━━━━━━━━━━━━━━━━━━━━\u001b[0m\u001b[37m\u001b[0m \u001b[1m1s\u001b[0m 5ms/step - accuracy: 0.8277 - loss: 0.3974 - precision_2: 0.6338 - recall_2: 0.3734 - val_accuracy: 0.8605 - val_loss: 0.3433 - val_precision_2: 0.7759 - val_recall_2: 0.4423\n",
            "Epoch 7/50\n",
            "\u001b[1m250/250\u001b[0m \u001b[32m━━━━━━━━━━━━━━━━━━━━\u001b[0m\u001b[37m\u001b[0m \u001b[1m1s\u001b[0m 5ms/step - accuracy: 0.8303 - loss: 0.3908 - precision_2: 0.6585 - recall_2: 0.4006 - val_accuracy: 0.8665 - val_loss: 0.3402 - val_precision_2: 0.7991 - val_recall_2: 0.4595\n",
            "Epoch 8/50\n",
            "\u001b[1m250/250\u001b[0m \u001b[32m━━━━━━━━━━━━━━━━━━━━\u001b[0m\u001b[37m\u001b[0m \u001b[1m1s\u001b[0m 5ms/step - accuracy: 0.8367 - loss: 0.3803 - precision_2: 0.6600 - recall_2: 0.4003 - val_accuracy: 0.8665 - val_loss: 0.3378 - val_precision_2: 0.7846 - val_recall_2: 0.4742\n",
            "Epoch 9/50\n",
            "\u001b[1m250/250\u001b[0m \u001b[32m━━━━━━━━━━━━━━━━━━━━\u001b[0m\u001b[37m\u001b[0m \u001b[1m1s\u001b[0m 5ms/step - accuracy: 0.8425 - loss: 0.3743 - precision_2: 0.6823 - recall_2: 0.3954 - val_accuracy: 0.8645 - val_loss: 0.3396 - val_precision_2: 0.7615 - val_recall_2: 0.4865\n",
            "Epoch 10/50\n",
            "\u001b[1m250/250\u001b[0m \u001b[32m━━━━━━━━━━━━━━━━━━━━\u001b[0m\u001b[37m\u001b[0m \u001b[1m1s\u001b[0m 5ms/step - accuracy: 0.8292 - loss: 0.3917 - precision_2: 0.6685 - recall_2: 0.4040 - val_accuracy: 0.8655 - val_loss: 0.3384 - val_precision_2: 0.7851 - val_recall_2: 0.4668\n",
            "Epoch 11/50\n",
            "\u001b[1m250/250\u001b[0m \u001b[32m━━━━━━━━━━━━━━━━━━━━\u001b[0m\u001b[37m\u001b[0m \u001b[1m2s\u001b[0m 6ms/step - accuracy: 0.8511 - loss: 0.3541 - precision_2: 0.7178 - recall_2: 0.4295 - val_accuracy: 0.8625 - val_loss: 0.3386 - val_precision_2: 0.7619 - val_recall_2: 0.4717\n",
            "Epoch 12/50\n",
            "\u001b[1m250/250\u001b[0m \u001b[32m━━━━━━━━━━━━━━━━━━━━\u001b[0m\u001b[37m\u001b[0m \u001b[1m1s\u001b[0m 6ms/step - accuracy: 0.8395 - loss: 0.3704 - precision_2: 0.6766 - recall_2: 0.4171 - val_accuracy: 0.8655 - val_loss: 0.3381 - val_precision_2: 0.7760 - val_recall_2: 0.4767\n",
            "Epoch 13/50\n",
            "\u001b[1m250/250\u001b[0m \u001b[32m━━━━━━━━━━━━━━━━━━━━\u001b[0m\u001b[37m\u001b[0m \u001b[1m1s\u001b[0m 5ms/step - accuracy: 0.8466 - loss: 0.3713 - precision_2: 0.7185 - recall_2: 0.4172 - val_accuracy: 0.8610 - val_loss: 0.3379 - val_precision_2: 0.7817 - val_recall_2: 0.4398\n"
          ]
        },
        {
          "output_type": "display_data",
          "data": {
            "text/plain": [
              "<Figure size 1200x400 with 2 Axes>"
            ],
            "image/png": "[encoded data removed]"
          },
          "metadata": {}
        },
        {
          "output_type": "stream",
          "name": "stdout",
          "text": [
            "\u001b[1m63/63\u001b[0m \u001b[32m━━━━━━━━━━━━━━━━━━━━\u001b[0m\u001b[37m\u001b[0m \u001b[1m1s\u001b[0m 5ms/step\n",
            "\n",
            "Test set performance:\n",
            "Accuracy: 0.8665\n",
            "Precision: 0.7846\n",
            "Recall: 0.4742\n",
            "F1-score: 0.5911\n"
          ]
        },
        {
          "output_type": "display_data",
          "data": {
            "text/plain": [
              "<Figure size 600x400 with 2 Axes>"
            ],
            "image/png": "[encoded data removed]"
          },
          "metadata": {}
        },
        {
          "output_type": "stream",
          "name": "stdout",
          "text": [
            "Feature importance skipped (not available): The 'estimator' parameter of permutation_importance must be an object implementing 'fit'. Got <__main__.main.<locals>.KerasSklearnWrapper object at 0x7ccd117102d0> instead.\n",
            "\u001b[1m50/50\u001b[0m \u001b[32m━━━━━━━━━━━━━━━━━━━━\u001b[0m\u001b[37m\u001b[0m \u001b[1m0s\u001b[0m 2ms/step\n",
            "Fold 1: acc=0.8581, precision=0.7619, recall=0.4417, f1=0.5592\n",
            "\u001b[1m50/50\u001b[0m \u001b[32m━━━━━━━━━━━━━━━━━━━━\u001b[0m\u001b[37m\u001b[0m \u001b[1m0s\u001b[0m 2ms/step\n",
            "Fold 2: acc=0.8669, precision=0.7653, recall=0.5000, f1=0.6048\n",
            "\u001b[1m50/50\u001b[0m \u001b[32m━━━━━━━━━━━━━━━━━━━━\u001b[0m\u001b[37m\u001b[0m \u001b[1m0s\u001b[0m 2ms/step\n",
            "Fold 3: acc=0.8694, precision=0.7910, recall=0.4877, f1=0.6034\n",
            "\u001b[1m50/50\u001b[0m \u001b[32m━━━━━━━━━━━━━━━━━━━━\u001b[0m\u001b[37m\u001b[0m \u001b[1m0s\u001b[0m 1ms/step\n",
            "Fold 4: acc=0.8569, precision=0.7539, recall=0.4417, f1=0.5571\n",
            "\u001b[1m50/50\u001b[0m \u001b[32m━━━━━━━━━━━━━━━━━━━━\u001b[0m\u001b[37m\u001b[0m \u001b[1m0s\u001b[0m 2ms/step\n",
            "Fold 5: acc=0.8450, precision=0.6950, recall=0.4264, f1=0.5285\n",
            "\n",
            "Cross-validation summary (mean ± 2*std):\n",
            "Accuracy: 0.8593 (+/- 0.0172)\n",
            "Precision: 0.7534 (+/- 0.0635)\n",
            "Recall: 0.4595 (+/- 0.0577)\n",
            "F1: 0.5706 (+/- 0.0589)\n",
            "\n",
            "Model saved to improved_model.keras\n"
          ]
        },
        {
          "output_type": "display_data",
          "data": {
            "text/plain": [
              "<IPython.core.display.Javascript object>"
            ],
            "application/javascript": [
              "\n",
              "    async function download(id, filename, size) {\n",
              "      if (!google.colab.kernel.accessAllowed) {\n",
              "        return;\n",
              "      }\n",
              "      const div = document.createElement('div');\n",
              "      const label = document.createElement('label');\n",
              "      label.textContent = `Downloading \"${filename}\": `;\n",
              "      div.appendChild(label);\n",
              "      const progress = document.createElement('progress');\n",
              "      progress.max = size;\n",
              "      div.appendChild(progress);\n",
              "      document.body.appendChild(div);\n",
              "\n",
              "      const buffers = [];\n",
              "      let downloaded = 0;\n",
              "\n",
              "      const channel = await google.colab.kernel.comms.open(id);\n",
              "      // Send a message to notify the kernel that we're ready.\n",
              "      channel.send({})\n",
              "\n",
              "      for await (const message of channel.messages) {\n",
              "        // Send a message to notify the kernel that we're ready.\n",
              "        channel.send({})\n",
              "        if (message.buffers) {\n",
              "          for (const buffer of message.buffers) {\n",
              "            buffers.push(buffer);\n",
              "            downloaded += buffer.byteLength;\n",
              "            progress.value = downloaded;\n",
              "          }\n",
              "        }\n",
              "      }\n",
              "      const blob = new Blob(buffers, {type: 'application/binary'});\n",
              "      const a = document.createElement('a');\n",
              "      a.href = window.URL.createObjectURL(blob);\n",
              "      a.download = filename;\n",
              "      div.appendChild(a);\n",
              "      a.click();\n",
              "      div.remove();\n",
              "    }\n",
              "  "
            ]
          },
          "metadata": {}
        },
        {
          "output_type": "display_data",
          "data": {
            "text/plain": [
              "<IPython.core.display.Javascript object>"
            ],
            "application/javascript": [
              "download(\"download_ad95bbda-1ec8-4cda-b182-9b87601e1a5c\", \"label_encoder_gender.pkl\", 259)"
            ]
          },
          "metadata": {}
        },
        {
          "output_type": "display_data",
          "data": {
            "text/plain": [
              "<IPython.core.display.Javascript object>"
            ],
            "application/javascript": [
              "\n",
              "    async function download(id, filename, size) {\n",
              "      if (!google.colab.kernel.accessAllowed) {\n",
              "        return;\n",
              "      }\n",
              "      const div = document.createElement('div');\n",
              "      const label = document.createElement('label');\n",
              "      label.textContent = `Downloading \"${filename}\": `;\n",
              "      div.appendChild(label);\n",
              "      const progress = document.createElement('progress');\n",
              "      progress.max = size;\n",
              "      div.appendChild(progress);\n",
              "      document.body.appendChild(div);\n",
              "\n",
              "      const buffers = [];\n",
              "      let downloaded = 0;\n",
              "\n",
              "      const channel = await google.colab.kernel.comms.open(id);\n",
              "      // Send a message to notify the kernel that we're ready.\n",
              "      channel.send({})\n",
              "\n",
              "      for await (const message of channel.messages) {\n",
              "        // Send a message to notify the kernel that we're ready.\n",
              "        channel.send({})\n",
              "        if (message.buffers) {\n",
              "          for (const buffer of message.buffers) {\n",
              "            buffers.push(buffer);\n",
              "            downloaded += buffer.byteLength;\n",
              "            progress.value = downloaded;\n",
              "          }\n",
              "        }\n",
              "      }\n",
              "      const blob = new Blob(buffers, {type: 'application/binary'});\n",
              "      const a = document.createElement('a');\n",
              "      a.href = window.URL.createObjectURL(blob);\n",
              "      a.download = filename;\n",
              "      div.appendChild(a);\n",
              "      a.click();\n",
              "      div.remove();\n",
              "    }\n",
              "  "
            ]
          },
          "metadata": {}
        },
        {
          "output_type": "display_data",
          "data": {
            "text/plain": [
              "<IPython.core.display.Javascript object>"
            ],
            "application/javascript": [
              "download(\"download_bfe643db-cf3b-4c52-b8e7-55ad71e8bf59\", \"onehot_encoder_geo.pkl\", 609)"
            ]
          },
          "metadata": {}
        },
        {
          "output_type": "display_data",
          "data": {
            "text/plain": [
              "<IPython.core.display.Javascript object>"
            ],
            "application/javascript": [
              "\n",
              "    async function download(id, filename, size) {\n",
              "      if (!google.colab.kernel.accessAllowed) {\n",
              "        return;\n",
              "      }\n",
              "      const div = document.createElement('div');\n",
              "      const label = document.createElement('label');\n",
              "      label.textContent = `Downloading \"${filename}\": `;\n",
              "      div.appendChild(label);\n",
              "      const progress = document.createElement('progress');\n",
              "      progress.max = size;\n",
              "      div.appendChild(progress);\n",
              "      document.body.appendChild(div);\n",
              "\n",
              "      const buffers = [];\n",
              "      let downloaded = 0;\n",
              "\n",
              "      const channel = await google.colab.kernel.comms.open(id);\n",
              "      // Send a message to notify the kernel that we're ready.\n",
              "      channel.send({})\n",
              "\n",
              "      for await (const message of channel.messages) {\n",
              "        // Send a message to notify the kernel that we're ready.\n",
              "        channel.send({})\n",
              "        if (message.buffers) {\n",
              "          for (const buffer of message.buffers) {\n",
              "            buffers.push(buffer);\n",
              "            downloaded += buffer.byteLength;\n",
              "            progress.value = downloaded;\n",
              "          }\n",
              "        }\n",
              "      }\n",
              "      const blob = new Blob(buffers, {type: 'application/binary'});\n",
              "      const a = document.createElement('a');\n",
              "      a.href = window.URL.createObjectURL(blob);\n",
              "      a.download = filename;\n",
              "      div.appendChild(a);\n",
              "      a.click();\n",
              "      div.remove();\n",
              "    }\n",
              "  "
            ]
          },
          "metadata": {}
        },
        {
          "output_type": "display_data",
          "data": {
            "text/plain": [
              "<IPython.core.display.Javascript object>"
            ],
            "application/javascript": [
              "download(\"download_1524a417-8b3a-4d37-ae5a-0385265de2f2\", \"scaler.pkl\", 993)"
            ]
          },
          "metadata": {}
        },
        {
          "output_type": "display_data",
          "data": {
            "text/plain": [
              "<IPython.core.display.Javascript object>"
            ],
            "application/javascript": [
              "\n",
              "    async function download(id, filename, size) {\n",
              "      if (!google.colab.kernel.accessAllowed) {\n",
              "        return;\n",
              "      }\n",
              "      const div = document.createElement('div');\n",
              "      const label = document.createElement('label');\n",
              "      label.textContent = `Downloading \"${filename}\": `;\n",
              "      div.appendChild(label);\n",
              "      const progress = document.createElement('progress');\n",
              "      progress.max = size;\n",
              "      div.appendChild(progress);\n",
              "      document.body.appendChild(div);\n",
              "\n",
              "      const buffers = [];\n",
              "      let downloaded = 0;\n",
              "\n",
              "      const channel = await google.colab.kernel.comms.open(id);\n",
              "      // Send a message to notify the kernel that we're ready.\n",
              "      channel.send({})\n",
              "\n",
              "      for await (const message of channel.messages) {\n",
              "        // Send a message to notify the kernel that we're ready.\n",
              "        channel.send({})\n",
              "        if (message.buffers) {\n",
              "          for (const buffer of message.buffers) {\n",
              "            buffers.push(buffer);\n",
              "            downloaded += buffer.byteLength;\n",
              "            progress.value = downloaded;\n",
              "          }\n",
              "        }\n",
              "      }\n",
              "      const blob = new Blob(buffers, {type: 'application/binary'});\n",
              "      const a = document.createElement('a');\n",
              "      a.href = window.URL.createObjectURL(blob);\n",
              "      a.download = filename;\n",
              "      div.appendChild(a);\n",
              "      a.click();\n",
              "      div.remove();\n",
              "    }\n",
              "  "
            ]
          },
          "metadata": {}
        },
        {
          "output_type": "display_data",
          "data": {
            "text/plain": [
              "<IPython.core.display.Javascript object>"
            ],
            "application/javascript": [
              "download(\"download_cef2a077-e2cd-459f-9877-425d84f3610a\", \"improved_model.keras\", 80387)"
            ]
          },
          "metadata": {}
        }
      ]
    },
    {
      "cell_type": "code",
      "source": [
        "\n",
        "total_customers = len(result_df)\n",
        "churners = sum(result_df['Churn_Prediction'] == 'likely to churn')\n",
        "churn_rate_percent = (churners / total_customers) * 100\n",
        "print(f\"Predicted churn rate: {churn_rate_percent:.2f}%\")\n"
      ],
      "metadata": {
        "colab": {
          "base_uri": "https://localhost:8080/"
        },
        "id": "Xv2y7vcN7i89",
        "outputId": "e737569b-448e-4c79-8a8b-6513cb4df820"
      },
      "execution_count": null,
      "outputs": [
        {
          "output_type": "stream",
          "name": "stdout",
          "text": [
            "Predicted churn rate: 0.00%\n"
          ]
        }
      ]
    },
    {
      "cell_type": "code",
      "source": [
        "print(data['Exited'].value_counts(normalize=True))\n"
      ],
      "metadata": {
        "colab": {
          "base_uri": "https://localhost:8080/"
        },
        "id": "0OS5MMWC72oi",
        "outputId": "ac7356e4-e204-422f-dc88-d181184968fe"
      },
      "execution_count": null,
      "outputs": [
        {
          "output_type": "stream",
          "name": "stdout",
          "text": [
            "Exited\n",
            "0    0.7963\n",
            "1    0.2037\n",
            "Name: proportion, dtype: float64\n"
          ]
        }
      ]
    }
  ]
}